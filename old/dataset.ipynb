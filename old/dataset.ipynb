{
 "cells": [
  {
   "cell_type": "markdown",
   "metadata": {},
   "source": [
    "## Let's implement CCS from scratch.\n",
    "This will deliberately be a simple (but less efficient) implementation to make everything as clear as possible."
   ]
  },
  {
   "cell_type": "code",
   "execution_count": 2,
   "metadata": {},
   "outputs": [],
   "source": [
    "# my cool cool imports\n",
    "import matplotlib.pyplot as plt\n",
    "import random\n",
    "import pickle"
   ]
  },
  {
   "cell_type": "code",
   "execution_count": 3,
   "metadata": {},
   "outputs": [
    {
     "name": "stderr",
     "output_type": "stream",
     "text": [
      "/opt/conda/envs/ccs2/lib/python3.11/site-packages/tqdm/auto.py:21: TqdmWarning: IProgress not found. Please update jupyter and ipywidgets. See https://ipywidgets.readthedocs.io/en/stable/user_install.html\n",
      "  from .autonotebook import tqdm as notebook_tqdm\n"
     ]
    }
   ],
   "source": [
    "from tqdm import tqdm\n",
    "import copy\n",
    "import numpy as np\n",
    "import torch\n",
    "import torch.nn as nn\n",
    "import torch.nn.functional as F\n",
    "\n",
    "from datasets import load_dataset\n",
    "from transformers import AutoTokenizer, AutoModelForSeq2SeqLM, AutoModelForMaskedLM, AutoModelForCausalLM\n",
    "from sklearn.linear_model import LogisticRegression\n",
    "from sklearn.svm import SVC\n",
    "\n"
   ]
  },
  {
   "cell_type": "code",
   "execution_count": 3,
   "metadata": {},
   "outputs": [
    {
     "name": "stderr",
     "output_type": "stream",
     "text": [
      "Downloading builder script: 100%|██████████| 28.8k/28.8k [00:00<00:00, 30.4MB/s]\n",
      "Downloading metadata: 100%|██████████| 28.7k/28.7k [00:00<00:00, 45.8MB/s]\n",
      "Downloading readme: 100%|██████████| 27.9k/27.9k [00:00<00:00, 38.8MB/s]\n",
      "Downloading data: 100%|██████████| 10.6M/10.6M [00:00<00:00, 53.9MB/s]\n",
      "Generating train split: 100%|██████████| 104743/104743 [00:03<00:00, 32584.76 examples/s]\n",
      "Generating validation split: 100%|██████████| 5463/5463 [00:00<00:00, 31027.94 examples/s]\n",
      "Generating test split: 100%|██████████| 5463/5463 [00:00<00:00, 34517.61 examples/s]\n"
     ]
    }
   ],
   "source": [
    "# QNLI dataset!\n",
    "# data = load_dataset(\"amazon_polarity\")[\"test\"]\n",
    "data = load_dataset(\"glue\", \"qnli\")[\"train\"]"
   ]
  },
  {
   "cell_type": "code",
   "execution_count": 6,
   "metadata": {},
   "outputs": [
    {
     "name": "stderr",
     "output_type": "stream",
     "text": [
      "Downloading builder script: 100%|██████████| 30.7k/30.7k [00:00<00:00, 62.5MB/s]\n",
      "Downloading metadata: 100%|██████████| 38.7k/38.7k [00:00<00:00, 52.2MB/s]\n",
      "Downloading readme: 100%|██████████| 14.8k/14.8k [00:00<00:00, 29.8MB/s]\n",
      "Downloading data: 100%|██████████| 44.0k/44.0k [00:00<00:00, 7.63MB/s]\n",
      "Generating train split: 100%|██████████| 400/400 [00:00<00:00, 22699.21 examples/s]\n",
      "Generating validation split: 100%|██████████| 100/100 [00:00<00:00, 17721.41 examples/s]\n",
      "Generating test split: 100%|██████████| 500/500 [00:00<00:00, 25483.97 examples/s]\n"
     ]
    }
   ],
   "source": [
    "# COPA dataset\n",
    "data = load_dataset(\"super_glue\", \"copa\")"
   ]
  },
  {
   "cell_type": "code",
   "execution_count": 4,
   "metadata": {},
   "outputs": [
    {
     "name": "stderr",
     "output_type": "stream",
     "text": [
      "Downloading data: 100%|██████████| 4.12M/4.12M [00:00<00:00, 33.5MB/s]\n",
      "Generating train split: 100%|██████████| 9427/9427 [00:00<00:00, 26549.45 examples/s]\n",
      "Generating validation split: 100%|██████████| 3270/3270 [00:00<00:00, 31213.66 examples/s]\n",
      "Generating test split: 100%|██████████| 3245/3245 [00:00<00:00, 32940.01 examples/s]\n"
     ]
    }
   ],
   "source": [
    "# BOOLQ dataset\n",
    "data = load_dataset(\"super_glue\", \"boolq\")[\"train\"]"
   ]
  },
  {
   "cell_type": "code",
   "execution_count": 8,
   "metadata": {},
   "outputs": [
    {
     "name": "stderr",
     "output_type": "stream",
     "text": [
      "Special tokens have been added in the vocabulary, make sure the associated word embeddings are fine-tuned or trained.\n",
      "/opt/conda/envs/ccs2/lib/python3.11/site-packages/transformers/convert_slow_tokenizer.py:470: UserWarning: The sentencepiece tokenizer that you are converting to a fast tokenizer uses the byte fallback option which is not implemented in the fast tokenizers. In practice this means that the fast version of the tokenizer can produce unknown tokens whereas the sentencepiece version would have converted these unknown tokens into a sequence of byte tokens matching the original piece of text.\n",
      "  warnings.warn(\n",
      "Special tokens have been added in the vocabulary, make sure the associated word embeddings are fine-tuned or trained.\n",
      "Some weights of DebertaV2ForMaskedLM were not initialized from the model checkpoint at microsoft/deberta-v3-base and are newly initialized: ['cls.predictions.transform.dense.bias', 'cls.predictions.decoder.bias', 'cls.predictions.transform.LayerNorm.bias', 'cls.predictions.transform.dense.weight', 'cls.predictions.bias', 'cls.predictions.transform.LayerNorm.weight']\n",
      "You should probably TRAIN this model on a down-stream task to be able to use it for predictions and inference.\n"
     ]
    },
    {
     "data": {
      "text/plain": [
       "DebertaV2ForMaskedLM(\n",
       "  (deberta): DebertaV2Model(\n",
       "    (embeddings): DebertaV2Embeddings(\n",
       "      (word_embeddings): Embedding(128100, 768, padding_idx=0)\n",
       "      (LayerNorm): LayerNorm((768,), eps=1e-07, elementwise_affine=True)\n",
       "      (dropout): StableDropout()\n",
       "    )\n",
       "    (encoder): DebertaV2Encoder(\n",
       "      (layer): ModuleList(\n",
       "        (0-11): 12 x DebertaV2Layer(\n",
       "          (attention): DebertaV2Attention(\n",
       "            (self): DisentangledSelfAttention(\n",
       "              (query_proj): Linear(in_features=768, out_features=768, bias=True)\n",
       "              (key_proj): Linear(in_features=768, out_features=768, bias=True)\n",
       "              (value_proj): Linear(in_features=768, out_features=768, bias=True)\n",
       "              (pos_dropout): StableDropout()\n",
       "              (dropout): StableDropout()\n",
       "            )\n",
       "            (output): DebertaV2SelfOutput(\n",
       "              (dense): Linear(in_features=768, out_features=768, bias=True)\n",
       "              (LayerNorm): LayerNorm((768,), eps=1e-07, elementwise_affine=True)\n",
       "              (dropout): StableDropout()\n",
       "            )\n",
       "          )\n",
       "          (intermediate): DebertaV2Intermediate(\n",
       "            (dense): Linear(in_features=768, out_features=3072, bias=True)\n",
       "            (intermediate_act_fn): GELUActivation()\n",
       "          )\n",
       "          (output): DebertaV2Output(\n",
       "            (dense): Linear(in_features=3072, out_features=768, bias=True)\n",
       "            (LayerNorm): LayerNorm((768,), eps=1e-07, elementwise_affine=True)\n",
       "            (dropout): StableDropout()\n",
       "          )\n",
       "        )\n",
       "      )\n",
       "      (rel_embeddings): Embedding(512, 768)\n",
       "      (LayerNorm): LayerNorm((768,), eps=1e-07, elementwise_affine=True)\n",
       "    )\n",
       "  )\n",
       "  (cls): DebertaV2OnlyMLMHead(\n",
       "    (predictions): DebertaV2LMPredictionHead(\n",
       "      (transform): DebertaV2PredictionHeadTransform(\n",
       "        (dense): Linear(in_features=768, out_features=768, bias=True)\n",
       "        (transform_act_fn): GELUActivation()\n",
       "        (LayerNorm): LayerNorm((768,), eps=1e-07, elementwise_affine=True)\n",
       "      )\n",
       "      (decoder): Linear(in_features=768, out_features=128100, bias=True)\n",
       "    )\n",
       "  )\n",
       ")"
      ]
     },
     "execution_count": 8,
     "metadata": {},
     "output_type": "execute_result"
    }
   ],
   "source": [
    "# manually executes model choice!\n",
    "model_type = \"encoder\"\n",
    "# MODEL_NAME = \"microsoft/deberta-v2-xxlarge\"\n",
    "MODEL_NAME = \"microsoft/deberta-v3-base\"\n",
    "\n",
    "tokenizer = AutoTokenizer.from_pretrained(MODEL_NAME)\n",
    "model = AutoModelForMaskedLM.from_pretrained(MODEL_NAME)\n",
    "model.cuda()"
   ]
  },
  {
   "cell_type": "markdown",
   "metadata": {},
   "source": [
    "## First let's write code for extracting hidden states given a model and text. \n",
    "How we do this exactly will depend on the type of model."
   ]
  },
  {
   "cell_type": "code",
   "execution_count": 9,
   "metadata": {},
   "outputs": [],
   "source": [
    "def get_encoder_hidden_states(model, tokenizer, input_text, layer=-1):\n",
    "    \"\"\"\n",
    "    Given an encoder model and some text, gets the encoder hidden states (in a given layer, by default the last) \n",
    "    on that input text (where the full text is given to the encoder).\n",
    "\n",
    "    Returns a numpy array of shape (hidden_dim,)\n",
    "    \"\"\"\n",
    "    # tokenize\n",
    "    encoder_text_ids = tokenizer(input_text, truncation=True, return_tensors=\"pt\").input_ids.to(model.device)\n",
    "\n",
    "    # forward pass\n",
    "    with torch.no_grad():\n",
    "        output = model(encoder_text_ids, output_hidden_states=True)\n",
    "\n",
    "    # get the appropriate hidden states\n",
    "    hs_tuple = output[\"hidden_states\"]\n",
    "    \n",
    "    hs = hs_tuple[layer][0, -1].detach().cpu().numpy()\n",
    "\n",
    "    return hs\n",
    "\n",
    "def get_encoder_decoder_hidden_states(model, tokenizer, input_text, layer=-1):\n",
    "    \"\"\"\n",
    "    Given an encoder-decoder model and some text, gets the encoder hidden states (in a given layer, by default the last) \n",
    "    on that input text (where the full text is given to the encoder).\n",
    "\n",
    "    Returns a numpy array of shape (hidden_dim,)\n",
    "    \"\"\"\n",
    "    # tokenize\n",
    "    encoder_text_ids = tokenizer(input_text, return_tensors=\"pt\").input_ids.to(model.device)\n",
    "    decoder_text_ids = tokenizer(\"\", return_tensors=\"pt\").input_ids.to(model.device)\n",
    "\n",
    "    # forward pass\n",
    "    with torch.no_grad():\n",
    "        output = model(encoder_text_ids, decoder_input_ids=decoder_text_ids, output_hidden_states=True)\n",
    "\n",
    "    # get the appropriate hidden states\n",
    "    hs_tuple = output[\"encoder_hidden_states\"]\n",
    "    hs = hs_tuple[layer][0, -1].detach().cpu().numpy()\n",
    "\n",
    "    return hs\n",
    "\n",
    "def get_decoder_hidden_states(model, tokenizer, input_text, layer=-1):\n",
    "    \"\"\"\n",
    "    Given a decoder model and some text, gets the hidden states (in a given layer, by default the last) on that input text\n",
    "\n",
    "    Returns a numpy array of shape (hidden_dim,)\n",
    "    \"\"\"\n",
    "    # tokenize (adding the EOS token this time)\n",
    "    input_ids = tokenizer(input_text + tokenizer.eos_token, return_tensors=\"pt\").input_ids.to(model.device)\n",
    "\n",
    "    # forward pass\n",
    "    with torch.no_grad():\n",
    "        output = model(input_ids, output_hidden_states=True)\n",
    "\n",
    "    # get the last layer, last token hidden states\n",
    "    hs_tuple = output[\"hidden_states\"]\n",
    "    hs = hs_tuple[layer][0, -1].detach().cpu().numpy()\n",
    "\n",
    "    return hs\n",
    "\n",
    "def get_hidden_states(model, tokenizer, input_text, layer=-1, model_type=\"encoder\"):\n",
    "    fn = {\"encoder\": get_encoder_hidden_states, \"encoder_decoder\": get_encoder_decoder_hidden_states,\n",
    "          \"decoder\": get_decoder_hidden_states}[model_type]\n",
    "\n",
    "    return fn(model, tokenizer, input_text, layer=layer)"
   ]
  },
  {
   "cell_type": "code",
   "execution_count": 10,
   "metadata": {},
   "outputs": [],
   "source": [
    "# specifies embedding fn\n",
    "# default model_type = \"encoder\" is fine, since we use deberta\n",
    "EMBEDDING_FN = lambda input_text: get_hidden_states(model, tokenizer, input_text)"
   ]
  },
  {
   "cell_type": "markdown",
   "metadata": {},
   "source": [
    "## Now let's write code for formatting data and for getting all the hidden states."
   ]
  },
  {
   "cell_type": "code",
   "execution_count": 34,
   "metadata": {},
   "outputs": [],
   "source": [
    "# formats an individual exaple\n",
    "def format_boolq(passage, question, label):\n",
    "\n",
    "    return f\"\"\"\n",
    "PASSAGE: {passage}\n",
    "QUESTION: {question}\n",
    "ANSWER: {label}\n",
    "\"\"\""
   ]
  },
  {
   "cell_type": "code",
   "execution_count": 53,
   "metadata": {},
   "outputs": [],
   "source": [
    "# featurizes the entire dataset\n",
    "def featurizer_benchmark(data):\n",
    "\n",
    "    # featurizes an individual example\n",
    "    def featurizer(passage, question):\n",
    "        return EMBEDDING_FN(format_boolq(passage, question, 1)) - EMBEDDING_FN(format_boolq(passage, question, 0))\n",
    "\n",
    "    # featurizes the entire dataset\n",
    "    features = []\n",
    "    for i in tqdm(range(len(data[\"passage\"]))):\n",
    "        passage = data[\"passage\"][i]\n",
    "        question = data[\"question\"][i]\n",
    "        features.append(featurizer(passage, question))\n",
    "\n",
    "    return features"
   ]
  },
  {
   "cell_type": "code",
   "execution_count": 54,
   "metadata": {},
   "outputs": [],
   "source": [
    "# specifies featurizer fn\n",
    "FEATURIZER_FN = featurizer_benchmark"
   ]
  },
  {
   "cell_type": "code",
   "execution_count": 75,
   "metadata": {},
   "outputs": [],
   "source": [
    "# subsamples dataset\n",
    "N = 5000\n",
    "subsample = data[np.random.choice(len(data), N, replace=False)]"
   ]
  },
  {
   "cell_type": "code",
   "execution_count": 76,
   "metadata": {},
   "outputs": [
    {
     "name": "stderr",
     "output_type": "stream",
     "text": []
    }
   ],
   "source": [
    "# featurizes subsample\n",
    "X = np.array(FEATURIZER_FN(subsample))\n",
    "y = np.array(subsample[\"label\"])"
   ]
  },
  {
   "cell_type": "code",
   "execution_count": 14,
   "metadata": {},
   "outputs": [],
   "source": [
    "# pickles and saves X\n",
    "# pickle.dump(X, open('X.pkl', 'wb'))\n",
    "\n",
    "# reads X from pickle\n",
    "# X = pickle.load(open('X.pkl', 'rb'))"
   ]
  },
  {
   "cell_type": "code",
   "execution_count": null,
   "metadata": {},
   "outputs": [],
   "source": [
    "# gets difference of means\n",
    "exgy = X[y == 1].mean(axis = 0)\n",
    "exgn = X[y == 0].mean(axis = 0)\n",
    "diff = exgy - exgn"
   ]
  },
  {
   "cell_type": "markdown",
   "metadata": {},
   "source": [
    "# Metrics\n",
    "- salience (proportion of X explained by diff)\n",
    "<!-- - power (proportion of y explained by diff) -->\n",
    "- accuracy (proportion of correct predictions)"
   ]
  },
  {
   "cell_type": "code",
   "execution_count": null,
   "metadata": {},
   "outputs": [
    {
     "name": "stdout",
     "output_type": "stream",
     "text": [
      "salience:  0.53\n"
     ]
    }
   ],
   "source": [
    "# gets covariance matrix of X\n",
    "cmx = np.cov(X.T)\n",
    "\n",
    "# gives salienece as rayleigh quotient w normalized trace\n",
    "# = e.val / sum e.vals\n",
    "print(\"salience: \", np.round(diff.T @ cmx @ diff / diff.dot(diff) / np.trace(cmx), 2))"
   ]
  },
  {
   "cell_type": "code",
   "execution_count": null,
   "metadata": {},
   "outputs": [],
   "source": [
    "# overall mean x\n",
    "ex = X.mean(axis = 0)\n",
    "\n",
    "# gets vector of diff scores\n",
    "X_diffs = (X - ex) @ diff\n",
    "\n",
    "# gets sign of diff scores\n",
    "X_signs = np.sign(X_diffs)"
   ]
  },
  {
   "cell_type": "code",
   "execution_count": null,
   "metadata": {},
   "outputs": [
    {
     "data": {
      "text/plain": [
       "(array([[ 1.,  0.,  0.,  0.,  0.,  0.,  0.,  2.,  3.,  0.,  1.,  0.,  1.,\n",
       "          3.,  3.,  3.,  5.,  7.,  5.,  9., 11., 15., 14., 26., 22., 37.,\n",
       "         54., 42., 53., 46., 50., 47., 47., 23., 22.,  7., 11.,  6.,  7.,\n",
       "          2.,  1.,  0.,  1.,  2.,  1.,  1.,  1.,  0.,  0.,  0.],\n",
       "        [ 0.,  0.,  0.,  0.,  2.,  1.,  1.,  1.,  0.,  1.,  0.,  2.,  1.,\n",
       "          1.,  2.,  5.,  5.,  6.,  8.,  5.,  5., 17., 17., 15., 29., 28.,\n",
       "         33., 30., 40., 28., 26., 26., 22., 19.,  7.,  3.,  3.,  5.,  6.,\n",
       "          0.,  1.,  2.,  0.,  1.,  0.,  2.,  0.,  1.,  0.,  1.]]),\n",
       " array([-7.99437054e-03, -7.70675065e-03, -7.41913076e-03, -7.13151088e-03,\n",
       "        -6.84389146e-03, -6.55627158e-03, -6.26865169e-03, -5.98103181e-03,\n",
       "        -5.69341192e-03, -5.40579204e-03, -5.11817215e-03, -4.83055273e-03,\n",
       "        -4.54293285e-03, -4.25531296e-03, -3.96769308e-03, -3.68007319e-03,\n",
       "        -3.39245331e-03, -3.10483365e-03, -2.81721377e-03, -2.52959388e-03,\n",
       "        -2.24197423e-03, -1.95435435e-03, -1.66673446e-03, -1.37911469e-03,\n",
       "        -1.09149481e-03, -8.03875038e-04, -5.16255212e-04, -2.28635399e-04,\n",
       "         5.89844203e-05,  3.46604240e-04,  6.34224038e-04,  9.21843864e-04,\n",
       "         1.20946369e-03,  1.49708358e-03,  1.78470335e-03,  2.07232311e-03,\n",
       "         2.35994300e-03,  2.64756288e-03,  2.93518254e-03,  3.22280242e-03,\n",
       "         3.51042231e-03,  3.79804219e-03,  4.08566184e-03,  4.37328173e-03,\n",
       "         4.66090161e-03,  4.94852150e-03,  5.23614138e-03,  5.52376080e-03,\n",
       "         5.81138069e-03,  6.09900057e-03,  6.38662046e-03]),\n",
       " <a list of 2 BarContainer objects>)"
      ]
     },
     "execution_count": 66,
     "metadata": {},
     "output_type": "execute_result"
    },
    {
     "data": {
      "image/png": "[encoded data removed]",
      "text/plain": [
       "<Figure size 640x480 with 1 Axes>"
      ]
     },
     "metadata": {},
     "output_type": "display_data"
    }
   ],
   "source": [
    "# plots diff scores for positive and negative examples\n",
    "import matplotlib.pyplot as plt\n",
    "diff_y = X_diffs[y == 1]\n",
    "diff_n = X_diffs[y == 0]\n",
    "\n",
    "plt.hist([diff_y, diff_n], bins=50, label=['positive', 'negative'])"
   ]
  },
  {
   "cell_type": "code",
   "execution_count": null,
   "metadata": {},
   "outputs": [
    {
     "name": "stdout",
     "output_type": "stream",
     "text": [
      "classifier accuracy:  0.55\n"
     ]
    }
   ],
   "source": [
    "# converts y to (1, -1) vector\n",
    "y_signs = np.where(y == 0, -1, 1)\n",
    "\n",
    "# gets Pr[correct]\n",
    "pr_correct = (X_signs.dot(y_signs) / len(y_signs) + 1) / 2\n",
    "print(\"classifier accuracy: \", np.round(pr_correct, 2))"
   ]
  },
  {
   "cell_type": "code",
   "execution_count": null,
   "metadata": {},
   "outputs": [
    {
     "name": "stdout",
     "output_type": "stream",
     "text": [
      "Logistic regression accuracy: 0.566\n"
     ]
    }
   ],
   "source": [
    "# alternatively, just gets sklearn to do it\n",
    "lr = LogisticRegression(class_weight='balanced')\n",
    "lr.fit(X, y)\n",
    "print(\"Logistic regression accuracy: {}\".format(lr.score(X, y)))"
   ]
  },
  {
   "cell_type": "code",
   "execution_count": null,
   "metadata": {},
   "outputs": [
    {
     "name": "stdout",
     "output_type": "stream",
     "text": [
      "SVM accuracy: 0.663\n"
     ]
    }
   ],
   "source": [
    "# SVM!!!\n",
    "svc = SVC(class_weight=\"balanced\")\n",
    "svc.fit(X, y)\n",
    "print(\"SVM accuracy: {}\".format(svc.score(X, y)))"
   ]
  },
  {
   "cell_type": "code",
   "execution_count": 72,
   "metadata": {},
   "outputs": [],
   "source": [
    "from sklearn.svm import SVC"
   ]
  },
  {
   "cell_type": "code",
   "execution_count": 20,
   "metadata": {},
   "outputs": [
    {
     "data": {
      "text/plain": [
       "(array([[  0.,   0.,   4.,   7.,  13.,  42.,  51.,  61.,  88., 211.],\n",
       "        [302., 221.,   0.,   0.,   0.,   0.,   0.,   0.,   0.,   0.]]),\n",
       " array([-0.14896262, -0.03408197,  0.08079867,  0.19567932,  0.31055996,\n",
       "         0.42544061,  0.54032125,  0.65520189,  0.77008254,  0.88496318,\n",
       "         0.99984383]),\n",
       " <a list of 2 BarContainer objects>)"
      ]
     },
     "execution_count": 20,
     "metadata": {},
     "output_type": "execute_result"
    },
    {
     "data": {
      "image/png": "[encoded data removed]",
      "text/plain": [
       "<Figure size 640x480 with 1 Axes>"
      ]
     },
     "metadata": {},
     "output_type": "display_data"
    }
   ],
   "source": [
    "# plots LR predictions by class\n",
    "preds = lr.predict_proba(X)[:, 1]\n",
    "preds_y = preds[y == 1]\n",
    "preds_n = X_diffs[y == 0]\n",
    "\n",
    "plt.hist([preds_y, preds_n], bins=10, label=['positive', 'negative'], color = [\"red\", \"blue\"])"
   ]
  },
  {
   "cell_type": "code",
   "execution_count": null,
   "metadata": {},
   "outputs": [],
   "source": []
  }
 ],
 "metadata": {
  "kernelspec": {
   "display_name": "Python 3 (ipykernel)",
   "language": "python",
   "name": "python3"
  },
  "language_info": {
   "codemirror_mode": {
    "name": "ipython",
    "version": 3
   },
   "file_extension": ".py",
   "mimetype": "text/x-python",
   "name": "python",
   "nbconvert_exporter": "python",
   "pygments_lexer": "ipython3",
   "version": "3.11.4"
  },
  "vscode": {
   "interpreter": {
    "hash": "b80286374679f2ad472c61c83fc267d31329b5dea8e2dcaccb727123767724c5"
   }
  }
 },
 "nbformat": 4,
 "nbformat_minor": 2
}
