{
 "cells": [
  {
   "cell_type": "markdown",
   "metadata": {},
   "source": [
    "# Investigating Nonlinear Predictors for CCS\n",
    "\n",
    "We consider the problem of [eliciting latent knowledge](https://www.lesswrong.com/tag/eliciting-latent-knowledge-elk) from LMs using probes. In particular, a recently published technique called [Contrast-Consistent Search](https://arxiv.org/abs/2212.03827) (CCS) has demonstrated success using a modification of linear probes. We contrast the performance of low-dimensional nonlinear probes using the CCS-style linear probes as a baseline.\n",
    "\n",
    "To run,\n",
    "1) clone the github repo\n",
    "> git clone https://github.com/vatsj/discovering_latent_knowledge\n",
    "2) create a conda environment from the provided requirements.txt\n",
    "(you'll need to [install conda](https://conda.io/projects/conda/en/latest/user-guide/install/index.html) for this to work!)\n",
    "> conda create --name ccs --file yml/requirements.txt\n",
    "\n",
    "> conda activate ccs\n",
    "3) run in .ipynb editor of choice (if in doubt, use [jupyter](https://jupyter.org/))"
   ]
  },
  {
   "cell_type": "code",
   "execution_count": 1,
   "metadata": {},
   "outputs": [],
   "source": [
    "# default imports\n",
    "from tqdm import tqdm\n",
    "import copy\n",
    "import numpy as np\n",
    "\n",
    "import sklearn as skl\n",
    "from sklearn import *\n",
    "\n",
    "# my cool cool imports\n",
    "import matplotlib.pyplot as plt\n",
    "import pickle"
   ]
  },
  {
   "cell_type": "markdown",
   "metadata": {},
   "source": [
    "# Language Modelling\n",
    "\n",
    "We consider the [BOOLQ dataset](https://huggingface.co/datasets/boolq), testing the ability of LMs to answer yes/no questions given a relevant informational passage.\n",
    "\n",
    "For our LM, we test 4 combinations of 2 seq2seq models ([DeBERTa-v3](https://huggingface.co/docs/transformers/model_doc/deberta) and [UnifiedQA](https://huggingface.co/allenai/unifiedqa-t5-large)) and 2 sizes (roughly, 100M and 10B parameters)"
   ]
  },
  {
   "cell_type": "code",
   "execution_count": 40,
   "metadata": {},
   "outputs": [],
   "source": [
    "# data storage\n",
    "FILENAME = \"boolq-uqa-large.pkl\"\n",
    "FILEPATH = f\"data/{FILENAME}\""
   ]
  },
  {
   "cell_type": "code",
   "execution_count": 41,
   "metadata": {},
   "outputs": [],
   "source": [
    "# load data from pkl\n",
    "with open(FILEPATH, \"rb\") as f:\n",
    "    X_train, y_train, X_val, y_val = pickle.load(f)"
   ]
  },
  {
   "cell_type": "code",
   "execution_count": 42,
   "metadata": {},
   "outputs": [
    {
     "data": {
      "text/plain": [
       "0.62"
      ]
     },
     "execution_count": 42,
     "metadata": {},
     "output_type": "execute_result"
    }
   ],
   "source": [
    "# dataset is positively biased\n",
    "# prediction accuracy of 0.62 is considered base rate!\n",
    "round(np.array(y_train).mean(), 2)"
   ]
  },
  {
   "cell_type": "markdown",
   "metadata": {},
   "source": [
    "# evaluation\n",
    "\n",
    "tests various models on loaded data\n",
    "\n",
    "Observations:\n",
    "- nonlinear models seem to work well\n",
    "- simple models seem to work well"
   ]
  },
  {
   "cell_type": "code",
   "execution_count": 43,
   "metadata": {},
   "outputs": [],
   "source": [
    "# defines models\n",
    "linear_model = skl.linear_model.LogisticRegression()\n",
    "knn_model = skl.neighbors.KNeighborsClassifier(n_neighbors=100)\n",
    "rfc_model = skl.ensemble.RandomForestClassifier(n_estimators=100, max_depth=5)\n",
    "mlp_model = skl.neural_network.MLPClassifier(hidden_layer_sizes=(100, 10, 1), max_iter=1000)\n",
    "models = [linear_model, knn_model, rfc_model]"
   ]
  },
  {
   "cell_type": "code",
   "execution_count": 44,
   "metadata": {},
   "outputs": [
    {
     "name": "stdout",
     "output_type": "stream",
     "text": [
      "LogisticRegression()\n",
      "train score: 0.64\n",
      "val score: 0.63\n",
      "\n",
      "KNeighborsClassifier(n_neighbors=100)\n",
      "train score: 0.77\n",
      "val score: 0.73\n",
      "\n",
      "RandomForestClassifier(max_depth=5)\n",
      "train score: 0.8\n",
      "val score: 0.72\n",
      "\n"
     ]
    }
   ],
   "source": [
    "# trains and tests models\n",
    "for model in models:\n",
    "    print(model)\n",
    "    model.fit(X_train, y_train)\n",
    "    print(\"train score:\", round(model.score(X_train, y_train), 2))\n",
    "    print(\"val score:\", round(model.score(X_val, y_val), 2))\n",
    "    print()"
   ]
  }
 ],
 "metadata": {
  "kernelspec": {
   "display_name": "ccs",
   "language": "python",
   "name": "python3"
  },
  "language_info": {
   "codemirror_mode": {
    "name": "ipython",
    "version": 3
   },
   "file_extension": ".py",
   "mimetype": "text/x-python",
   "name": "python",
   "nbconvert_exporter": "python",
   "pygments_lexer": "ipython3",
   "version": "3.11.5"
  },
  "orig_nbformat": 4
 },
 "nbformat": 4,
 "nbformat_minor": 2
}
